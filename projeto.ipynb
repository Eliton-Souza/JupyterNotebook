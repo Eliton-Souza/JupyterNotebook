{
 "cells": [
  {
   "cell_type": "markdown",
   "metadata": {},
   "source": [
    "# Comparando dois Estados"
   ]
  },
  {
   "cell_type": "code",
   "execution_count": null,
   "metadata": {},
   "outputs": [],
   "source": [
    "import pandas as pd"
   ]
  },
  {
   "cell_type": "code",
   "execution_count": null,
   "metadata": {},
   "outputs": [],
   "source": [
    "import matplotlib.pyplot as plt"
   ]
  },
  {
   "cell_type": "code",
   "execution_count": null,
   "metadata": {},
   "outputs": [],
   "source": [
    "import numpy as np"
   ]
  },
  {
   "cell_type": "markdown",
   "metadata": {},
   "source": [
    "Entrando com o nome dos Estados"
   ]
  },
  {
   "cell_type": "code",
   "execution_count": null,
   "metadata": {},
   "outputs": [],
   "source": [
    "arquivo = pd.read_csv('covid19.csv', usecols=[0, 1, 3, 4, 7]) #lendo o arquivo e selecionando as partes que considero importante"
   ]
  },
  {
   "cell_type": "code",
   "execution_count": null,
   "metadata": {},
   "outputs": [],
   "source": [
    "estado1 = input('Digite a SIGLA do primeiro estado: ')\n",
    "estado1 = estado1.upper()\n",
    "dados_estado1 = arquivo[arquivo.state == estado1]\n",
    "while dados_estado1.empty:\n",
    "    print('Estado {} não existe!'.format(estado1))\n",
    "    estado1 = input('Digite a SIGLA do primeiro estado: ')\n",
    "    estado1 = estado1.upper()\n",
    "    dados_estado1 = arquivo[arquivo.state == estado1]"
   ]
  },
  {
   "cell_type": "code",
   "execution_count": null,
   "metadata": {},
   "outputs": [],
   "source": [
    "estado2 = input('Digite a SIGLA do segundo estado: ')\n",
    "estado2 = estado2.upper()\n",
    "dados_estado2 = arquivo[arquivo.state == estado2]\n",
    "while dados_estado2.empty:\n",
    "    print('Estado {} não existe!'.format(estado2))\n",
    "    estado2 = input('Digite a SIGLA do primeiro estado: ')\n",
    "    estado2 = estado2.upper()\n",
    "    dados_estado2 = arquivo[arquivo.state == estado2]"
   ]
  },
  {
   "cell_type": "markdown",
   "metadata": {},
   "source": [
    "Selecionando os dados de comparação do primeiro Estado"
   ]
  },
  {
   "cell_type": "code",
   "execution_count": null,
   "metadata": {},
   "outputs": [],
   "source": [
    "ultimo = dados_estado1.epidemiological_week.iloc[0]\n",
    "dados = dados_estado1[dados_estado1.epidemiological_week == ultimo]\n",
    "estado1_casos_semana = []\n",
    "datas_estado1 = []"
   ]
  },
  {
   "cell_type": "code",
   "execution_count": null,
   "metadata": {},
   "outputs": [],
   "source": []
  },
  {
   "cell_type": "code",
   "execution_count": null,
   "metadata": {},
   "outputs": [],
   "source": [
    "acu, i = 0, 0\n",
    "for linha in range(0, 7):\n",
    "    for dia in dados:\n",
    "        acu += dados.last_available_confirmed.iloc[i]\n",
    "        i += 1\n",
    "    estado1_casos_semana.append(acu)\n",
    "    datas_estado1.append(ultimo)\n",
    "    acu, i = 0, 0\n",
    "    ultimo -= 1\n",
    "    dados = dados_estado1[dados_estado1.epidemiological_week == ultimo]"
   ]
  },
  {
   "cell_type": "code",
   "execution_count": null,
   "metadata": {},
   "outputs": [],
   "source": []
  },
  {
   "cell_type": "markdown",
   "metadata": {},
   "source": [
    "Selecionando os dados de comparação do segundo estado"
   ]
  },
  {
   "cell_type": "code",
   "execution_count": null,
   "metadata": {},
   "outputs": [],
   "source": [
    "ultimo = dados_estado2.epidemiological_week.iloc[0]\n",
    "dados = dados_estado2[dados_estado2.epidemiological_week == ultimo]\n",
    "estado2_casos_semana = []\n",
    "datas_estado2 = []"
   ]
  },
  {
   "cell_type": "code",
   "execution_count": null,
   "metadata": {},
   "outputs": [],
   "source": [
    "acu, i = 0, 0\n",
    "for linha in range(0, 7):\n",
    "    for dia in dados:\n",
    "        acu += dados.last_available_confirmed.iloc[i]\n",
    "        i += 1\n",
    "    estado2_casos_semana.append(acu)\n",
    "    datas_estado2.append(ultimo)\n",
    "    acu, i = 0, 0\n",
    "    ultimo -= 1\n",
    "    dados = dados_estado2[dados_estado2.epidemiological_week == ultimo]"
   ]
  },
  {
   "cell_type": "code",
   "execution_count": null,
   "metadata": {},
   "outputs": [],
   "source": []
  },
  {
   "cell_type": "markdown",
   "metadata": {},
   "source": [
    "Plotando o gráfico de comparação usando os dados coletados"
   ]
  },
  {
   "cell_type": "code",
   "execution_count": null,
   "metadata": {},
   "outputs": [],
   "source": [
    "plt.rcParams['figure.figsize'] = (11, 7)\n",
    "plt.plot(datas_estado1, estado1_casos_semana, 'b-', label=estado1)\n",
    "plt.plot(datas_estado2, estado2_casos_semana, 'r-', label=estado2)\n",
    "plt.legend(fontsize = 11)\n",
    "plt.grid()\n",
    "plt.title('CASOS CONFIRMADOS NAS ÚLTIMAS SEMANAS', fontsize = 15, color= 'red')\n",
    "plt.xlabel('SEMANA EPIDEMIOLÓGICA', fontsize = 14)\n",
    "plt.ylabel('CASOS CONFIRMADOS', fontsize = 14)\n",
    "plt.show()"
   ]
  },
  {
   "cell_type": "code",
   "execution_count": null,
   "metadata": {},
   "outputs": [],
   "source": [
    "print(estado1_casos_semana'\\n'datas_estado1)"
   ]
  },
  {
   "cell_type": "code",
   "execution_count": null,
   "metadata": {},
   "outputs": [],
   "source": [
    "print(estado2_casos_semana)"
   ]
  },
  {
   "cell_type": "markdown",
   "metadata": {},
   "source": [
    "# Comparando duas Cidades"
   ]
  },
  {
   "cell_type": "code",
   "execution_count": null,
   "metadata": {},
   "outputs": [],
   "source": [
    "cidade1 = input('Digite o nome da primeira Cidade: ')\n",
    "dados_cidade1 = arquivo[arquivo.city == cidade1]\n",
    "while dados_cidade1.empty:\n",
    "    print('Estado {} não existe!'.format(cidade1))\n",
    "    cidade1 = input('Digite a sigla da primeira Cidade: ')\n",
    "    dados_cidade1 = arquivo[arquivo.city == cidade1]"
   ]
  },
  {
   "cell_type": "code",
   "execution_count": null,
   "metadata": {},
   "outputs": [],
   "source": [
    "arquivo"
   ]
  },
  {
   "cell_type": "code",
   "execution_count": null,
   "metadata": {},
   "outputs": [],
   "source": []
  },
  {
   "cell_type": "code",
   "execution_count": null,
   "metadata": {},
   "outputs": [],
   "source": []
  },
  {
   "cell_type": "code",
   "execution_count": null,
   "metadata": {},
   "outputs": [],
   "source": []
  },
  {
   "cell_type": "code",
   "execution_count": null,
   "metadata": {},
   "outputs": [],
   "source": []
  },
  {
   "cell_type": "code",
   "execution_count": null,
   "metadata": {},
   "outputs": [],
   "source": []
  },
  {
   "cell_type": "code",
   "execution_count": null,
   "metadata": {},
   "outputs": [],
   "source": []
  },
  {
   "cell_type": "code",
   "execution_count": null,
   "metadata": {},
   "outputs": [],
   "source": []
  },
  {
   "cell_type": "code",
   "execution_count": null,
   "metadata": {},
   "outputs": [],
   "source": []
  },
  {
   "cell_type": "code",
   "execution_count": null,
   "metadata": {},
   "outputs": [],
   "source": []
  }
 ],
 "metadata": {
  "kernelspec": {
   "display_name": "Python 3",
   "language": "python",
   "name": "python3"
  },
  "language_info": {
   "codemirror_mode": {
    "name": "ipython",
    "version": 3
   },
   "file_extension": ".py",
   "mimetype": "text/x-python",
   "name": "python",
   "nbconvert_exporter": "python",
   "pygments_lexer": "ipython3",
   "version": "3.7.6"
  }
 },
 "nbformat": 4,
 "nbformat_minor": 4
}
